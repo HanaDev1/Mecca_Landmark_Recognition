{
  "nbformat": 4,
  "nbformat_minor": 0,
  "metadata": {
    "colab": {
      "name": "ChatBotHonaMalam.ipynb",
      "provenance": []
    },
    "kernelspec": {
      "name": "python3",
      "display_name": "Python 3"
    }
  },
  "cells": [
    {
      "cell_type": "code",
      "metadata": {
        "colab": {
          "base_uri": "https://localhost:8080/"
        },
        "id": "kkEnc4BHqk2C",
        "outputId": "2ea3a547-f885-4cb2-cd1b-cabbe587acd5"
      },
      "source": [
        "#Install Pakeges\r\n",
        "pip install tensorflow"
      ],
      "execution_count": null,
      "outputs": [
        {
          "output_type": "stream",
          "text": [
            "Requirement already satisfied: tensorflow in /usr/local/lib/python3.7/dist-packages (2.4.1)\n",
            "Requirement already satisfied: numpy~=1.19.2 in /usr/local/lib/python3.7/dist-packages (from tensorflow) (1.19.5)\n",
            "Requirement already satisfied: wrapt~=1.12.1 in /usr/local/lib/python3.7/dist-packages (from tensorflow) (1.12.1)\n",
            "Requirement already satisfied: astunparse~=1.6.3 in /usr/local/lib/python3.7/dist-packages (from tensorflow) (1.6.3)\n",
            "Requirement already satisfied: termcolor~=1.1.0 in /usr/local/lib/python3.7/dist-packages (from tensorflow) (1.1.0)\n",
            "Requirement already satisfied: typing-extensions~=3.7.4 in /usr/local/lib/python3.7/dist-packages (from tensorflow) (3.7.4.3)\n",
            "Requirement already satisfied: grpcio~=1.32.0 in /usr/local/lib/python3.7/dist-packages (from tensorflow) (1.32.0)\n",
            "Requirement already satisfied: tensorboard~=2.4 in /usr/local/lib/python3.7/dist-packages (from tensorflow) (2.4.1)\n",
            "Requirement already satisfied: six~=1.15.0 in /usr/local/lib/python3.7/dist-packages (from tensorflow) (1.15.0)\n",
            "Requirement already satisfied: wheel~=0.35 in /usr/local/lib/python3.7/dist-packages (from tensorflow) (0.36.2)\n",
            "Requirement already satisfied: absl-py~=0.10 in /usr/local/lib/python3.7/dist-packages (from tensorflow) (0.10.0)\n",
            "Requirement already satisfied: google-pasta~=0.2 in /usr/local/lib/python3.7/dist-packages (from tensorflow) (0.2.0)\n",
            "Requirement already satisfied: keras-preprocessing~=1.1.2 in /usr/local/lib/python3.7/dist-packages (from tensorflow) (1.1.2)\n",
            "Requirement already satisfied: protobuf>=3.9.2 in /usr/local/lib/python3.7/dist-packages (from tensorflow) (3.12.4)\n",
            "Requirement already satisfied: h5py~=2.10.0 in /usr/local/lib/python3.7/dist-packages (from tensorflow) (2.10.0)\n",
            "Requirement already satisfied: gast==0.3.3 in /usr/local/lib/python3.7/dist-packages (from tensorflow) (0.3.3)\n",
            "Requirement already satisfied: flatbuffers~=1.12.0 in /usr/local/lib/python3.7/dist-packages (from tensorflow) (1.12)\n",
            "Requirement already satisfied: opt-einsum~=3.3.0 in /usr/local/lib/python3.7/dist-packages (from tensorflow) (3.3.0)\n",
            "Requirement already satisfied: tensorflow-estimator<2.5.0,>=2.4.0 in /usr/local/lib/python3.7/dist-packages (from tensorflow) (2.4.0)\n",
            "Requirement already satisfied: requests<3,>=2.21.0 in /usr/local/lib/python3.7/dist-packages (from tensorboard~=2.4->tensorflow) (2.23.0)\n",
            "Requirement already satisfied: google-auth-oauthlib<0.5,>=0.4.1 in /usr/local/lib/python3.7/dist-packages (from tensorboard~=2.4->tensorflow) (0.4.3)\n",
            "Requirement already satisfied: tensorboard-plugin-wit>=1.6.0 in /usr/local/lib/python3.7/dist-packages (from tensorboard~=2.4->tensorflow) (1.8.0)\n",
            "Requirement already satisfied: werkzeug>=0.11.15 in /usr/local/lib/python3.7/dist-packages (from tensorboard~=2.4->tensorflow) (1.0.1)\n",
            "Requirement already satisfied: google-auth<2,>=1.6.3 in /usr/local/lib/python3.7/dist-packages (from tensorboard~=2.4->tensorflow) (1.27.1)\n",
            "Requirement already satisfied: markdown>=2.6.8 in /usr/local/lib/python3.7/dist-packages (from tensorboard~=2.4->tensorflow) (3.3.4)\n",
            "Requirement already satisfied: setuptools>=41.0.0 in /usr/local/lib/python3.7/dist-packages (from tensorboard~=2.4->tensorflow) (54.0.0)\n",
            "Requirement already satisfied: idna<3,>=2.5 in /usr/local/lib/python3.7/dist-packages (from requests<3,>=2.21.0->tensorboard~=2.4->tensorflow) (2.10)\n",
            "Requirement already satisfied: urllib3!=1.25.0,!=1.25.1,<1.26,>=1.21.1 in /usr/local/lib/python3.7/dist-packages (from requests<3,>=2.21.0->tensorboard~=2.4->tensorflow) (1.24.3)\n",
            "Requirement already satisfied: certifi>=2017.4.17 in /usr/local/lib/python3.7/dist-packages (from requests<3,>=2.21.0->tensorboard~=2.4->tensorflow) (2020.12.5)\n",
            "Requirement already satisfied: chardet<4,>=3.0.2 in /usr/local/lib/python3.7/dist-packages (from requests<3,>=2.21.0->tensorboard~=2.4->tensorflow) (3.0.4)\n",
            "Requirement already satisfied: requests-oauthlib>=0.7.0 in /usr/local/lib/python3.7/dist-packages (from google-auth-oauthlib<0.5,>=0.4.1->tensorboard~=2.4->tensorflow) (1.3.0)\n",
            "Requirement already satisfied: rsa<5,>=3.1.4; python_version >= \"3.6\" in /usr/local/lib/python3.7/dist-packages (from google-auth<2,>=1.6.3->tensorboard~=2.4->tensorflow) (4.7.2)\n",
            "Requirement already satisfied: cachetools<5.0,>=2.0.0 in /usr/local/lib/python3.7/dist-packages (from google-auth<2,>=1.6.3->tensorboard~=2.4->tensorflow) (4.2.1)\n",
            "Requirement already satisfied: pyasn1-modules>=0.2.1 in /usr/local/lib/python3.7/dist-packages (from google-auth<2,>=1.6.3->tensorboard~=2.4->tensorflow) (0.2.8)\n",
            "Requirement already satisfied: importlib-metadata; python_version < \"3.8\" in /usr/local/lib/python3.7/dist-packages (from markdown>=2.6.8->tensorboard~=2.4->tensorflow) (3.7.0)\n",
            "Requirement already satisfied: oauthlib>=3.0.0 in /usr/local/lib/python3.7/dist-packages (from requests-oauthlib>=0.7.0->google-auth-oauthlib<0.5,>=0.4.1->tensorboard~=2.4->tensorflow) (3.1.0)\n",
            "Requirement already satisfied: pyasn1>=0.1.3 in /usr/local/lib/python3.7/dist-packages (from rsa<5,>=3.1.4; python_version >= \"3.6\"->google-auth<2,>=1.6.3->tensorboard~=2.4->tensorflow) (0.4.8)\n",
            "Requirement already satisfied: zipp>=0.5 in /usr/local/lib/python3.7/dist-packages (from importlib-metadata; python_version < \"3.8\"->markdown>=2.6.8->tensorboard~=2.4->tensorflow) (3.4.1)\n"
          ],
          "name": "stdout"
        }
      ]
    },
    {
      "cell_type": "code",
      "metadata": {
        "colab": {
          "base_uri": "https://localhost:8080/"
        },
        "id": "cMGYP-JXq9ht",
        "outputId": "abb70685-9d7f-45ef-9ce2-5f64afad4a7f"
      },
      "source": [
        "pip install keras"
      ],
      "execution_count": null,
      "outputs": [
        {
          "output_type": "stream",
          "text": [
            "Requirement already satisfied: keras in /usr/local/lib/python3.7/dist-packages (2.4.3)\n",
            "Requirement already satisfied: pyyaml in /usr/local/lib/python3.7/dist-packages (from keras) (3.13)\n",
            "Requirement already satisfied: scipy>=0.14 in /usr/local/lib/python3.7/dist-packages (from keras) (1.4.1)\n",
            "Requirement already satisfied: numpy>=1.9.1 in /usr/local/lib/python3.7/dist-packages (from keras) (1.19.5)\n",
            "Requirement already satisfied: h5py in /usr/local/lib/python3.7/dist-packages (from keras) (2.10.0)\n",
            "Requirement already satisfied: six in /usr/local/lib/python3.7/dist-packages (from h5py->keras) (1.15.0)\n"
          ],
          "name": "stdout"
        }
      ]
    },
    {
      "cell_type": "code",
      "metadata": {
        "id": "QOZ3EwonV8Km"
      },
      "source": [
        ""
      ],
      "execution_count": null,
      "outputs": []
    },
    {
      "cell_type": "markdown",
      "metadata": {
        "id": "fbYhz-prC_kI"
      },
      "source": [
        "the second experiment\r\n"
      ]
    },
    {
      "cell_type": "code",
      "metadata": {
        "colab": {
          "base_uri": "https://localhost:8080/"
        },
        "id": "RD_7tu3rDGCB",
        "outputId": "3c682908-c6c0-4d84-a5a1-3049b0cc7555"
      },
      "source": [
        "!pip install tensorflow\r\n",
        "!pip install tensorflow-gpu\r\n",
        "!pip install nltk\r\n",
        "!pip install Flask\r\n"
      ],
      "execution_count": 1,
      "outputs": [
        {
          "output_type": "stream",
          "text": [
            "Requirement already satisfied: tensorflow in /usr/local/lib/python3.7/dist-packages (2.4.1)\n",
            "Requirement already satisfied: google-pasta~=0.2 in /usr/local/lib/python3.7/dist-packages (from tensorflow) (0.2.0)\n",
            "Requirement already satisfied: termcolor~=1.1.0 in /usr/local/lib/python3.7/dist-packages (from tensorflow) (1.1.0)\n",
            "Requirement already satisfied: gast==0.3.3 in /usr/local/lib/python3.7/dist-packages (from tensorflow) (0.3.3)\n",
            "Requirement already satisfied: h5py~=2.10.0 in /usr/local/lib/python3.7/dist-packages (from tensorflow) (2.10.0)\n",
            "Requirement already satisfied: tensorboard~=2.4 in /usr/local/lib/python3.7/dist-packages (from tensorflow) (2.4.1)\n",
            "Requirement already satisfied: keras-preprocessing~=1.1.2 in /usr/local/lib/python3.7/dist-packages (from tensorflow) (1.1.2)\n",
            "Requirement already satisfied: grpcio~=1.32.0 in /usr/local/lib/python3.7/dist-packages (from tensorflow) (1.32.0)\n",
            "Requirement already satisfied: numpy~=1.19.2 in /usr/local/lib/python3.7/dist-packages (from tensorflow) (1.19.5)\n",
            "Requirement already satisfied: typing-extensions~=3.7.4 in /usr/local/lib/python3.7/dist-packages (from tensorflow) (3.7.4.3)\n",
            "Requirement already satisfied: protobuf>=3.9.2 in /usr/local/lib/python3.7/dist-packages (from tensorflow) (3.12.4)\n",
            "Requirement already satisfied: astunparse~=1.6.3 in /usr/local/lib/python3.7/dist-packages (from tensorflow) (1.6.3)\n",
            "Requirement already satisfied: wheel~=0.35 in /usr/local/lib/python3.7/dist-packages (from tensorflow) (0.36.2)\n",
            "Requirement already satisfied: flatbuffers~=1.12.0 in /usr/local/lib/python3.7/dist-packages (from tensorflow) (1.12)\n",
            "Requirement already satisfied: six~=1.15.0 in /usr/local/lib/python3.7/dist-packages (from tensorflow) (1.15.0)\n",
            "Requirement already satisfied: wrapt~=1.12.1 in /usr/local/lib/python3.7/dist-packages (from tensorflow) (1.12.1)\n",
            "Requirement already satisfied: absl-py~=0.10 in /usr/local/lib/python3.7/dist-packages (from tensorflow) (0.10.0)\n",
            "Requirement already satisfied: opt-einsum~=3.3.0 in /usr/local/lib/python3.7/dist-packages (from tensorflow) (3.3.0)\n",
            "Requirement already satisfied: tensorflow-estimator<2.5.0,>=2.4.0 in /usr/local/lib/python3.7/dist-packages (from tensorflow) (2.4.0)\n",
            "Requirement already satisfied: requests<3,>=2.21.0 in /usr/local/lib/python3.7/dist-packages (from tensorboard~=2.4->tensorflow) (2.23.0)\n",
            "Requirement already satisfied: setuptools>=41.0.0 in /usr/local/lib/python3.7/dist-packages (from tensorboard~=2.4->tensorflow) (54.0.0)\n",
            "Requirement already satisfied: tensorboard-plugin-wit>=1.6.0 in /usr/local/lib/python3.7/dist-packages (from tensorboard~=2.4->tensorflow) (1.8.0)\n",
            "Requirement already satisfied: markdown>=2.6.8 in /usr/local/lib/python3.7/dist-packages (from tensorboard~=2.4->tensorflow) (3.3.4)\n",
            "Requirement already satisfied: werkzeug>=0.11.15 in /usr/local/lib/python3.7/dist-packages (from tensorboard~=2.4->tensorflow) (1.0.1)\n",
            "Requirement already satisfied: google-auth-oauthlib<0.5,>=0.4.1 in /usr/local/lib/python3.7/dist-packages (from tensorboard~=2.4->tensorflow) (0.4.3)\n",
            "Requirement already satisfied: google-auth<2,>=1.6.3 in /usr/local/lib/python3.7/dist-packages (from tensorboard~=2.4->tensorflow) (1.27.1)\n",
            "Requirement already satisfied: urllib3!=1.25.0,!=1.25.1,<1.26,>=1.21.1 in /usr/local/lib/python3.7/dist-packages (from requests<3,>=2.21.0->tensorboard~=2.4->tensorflow) (1.24.3)\n",
            "Requirement already satisfied: idna<3,>=2.5 in /usr/local/lib/python3.7/dist-packages (from requests<3,>=2.21.0->tensorboard~=2.4->tensorflow) (2.10)\n",
            "Requirement already satisfied: certifi>=2017.4.17 in /usr/local/lib/python3.7/dist-packages (from requests<3,>=2.21.0->tensorboard~=2.4->tensorflow) (2020.12.5)\n",
            "Requirement already satisfied: chardet<4,>=3.0.2 in /usr/local/lib/python3.7/dist-packages (from requests<3,>=2.21.0->tensorboard~=2.4->tensorflow) (3.0.4)\n",
            "Requirement already satisfied: importlib-metadata; python_version < \"3.8\" in /usr/local/lib/python3.7/dist-packages (from markdown>=2.6.8->tensorboard~=2.4->tensorflow) (3.7.0)\n",
            "Requirement already satisfied: requests-oauthlib>=0.7.0 in /usr/local/lib/python3.7/dist-packages (from google-auth-oauthlib<0.5,>=0.4.1->tensorboard~=2.4->tensorflow) (1.3.0)\n",
            "Requirement already satisfied: pyasn1-modules>=0.2.1 in /usr/local/lib/python3.7/dist-packages (from google-auth<2,>=1.6.3->tensorboard~=2.4->tensorflow) (0.2.8)\n",
            "Requirement already satisfied: rsa<5,>=3.1.4; python_version >= \"3.6\" in /usr/local/lib/python3.7/dist-packages (from google-auth<2,>=1.6.3->tensorboard~=2.4->tensorflow) (4.7.2)\n",
            "Requirement already satisfied: cachetools<5.0,>=2.0.0 in /usr/local/lib/python3.7/dist-packages (from google-auth<2,>=1.6.3->tensorboard~=2.4->tensorflow) (4.2.1)\n",
            "Requirement already satisfied: zipp>=0.5 in /usr/local/lib/python3.7/dist-packages (from importlib-metadata; python_version < \"3.8\"->markdown>=2.6.8->tensorboard~=2.4->tensorflow) (3.4.1)\n",
            "Requirement already satisfied: oauthlib>=3.0.0 in /usr/local/lib/python3.7/dist-packages (from requests-oauthlib>=0.7.0->google-auth-oauthlib<0.5,>=0.4.1->tensorboard~=2.4->tensorflow) (3.1.0)\n",
            "Requirement already satisfied: pyasn1<0.5.0,>=0.4.6 in /usr/local/lib/python3.7/dist-packages (from pyasn1-modules>=0.2.1->google-auth<2,>=1.6.3->tensorboard~=2.4->tensorflow) (0.4.8)\n",
            "Collecting tensorflow-gpu\n",
            "\u001b[?25l  Downloading https://files.pythonhosted.org/packages/85/cc/a27e73cf8b23f2ce4bdd2b7089a42a7819ce6dd7366dceba406ddc5daa9c/tensorflow_gpu-2.4.1-cp37-cp37m-manylinux2010_x86_64.whl (394.3MB)\n",
            "\u001b[K     |████████████████████████████████| 394.3MB 38kB/s \n",
            "\u001b[?25hRequirement already satisfied: grpcio~=1.32.0 in /usr/local/lib/python3.7/dist-packages (from tensorflow-gpu) (1.32.0)\n",
            "Requirement already satisfied: astunparse~=1.6.3 in /usr/local/lib/python3.7/dist-packages (from tensorflow-gpu) (1.6.3)\n",
            "Requirement already satisfied: typing-extensions~=3.7.4 in /usr/local/lib/python3.7/dist-packages (from tensorflow-gpu) (3.7.4.3)\n",
            "Requirement already satisfied: keras-preprocessing~=1.1.2 in /usr/local/lib/python3.7/dist-packages (from tensorflow-gpu) (1.1.2)\n",
            "Requirement already satisfied: termcolor~=1.1.0 in /usr/local/lib/python3.7/dist-packages (from tensorflow-gpu) (1.1.0)\n",
            "Requirement already satisfied: wheel~=0.35 in /usr/local/lib/python3.7/dist-packages (from tensorflow-gpu) (0.36.2)\n",
            "Requirement already satisfied: opt-einsum~=3.3.0 in /usr/local/lib/python3.7/dist-packages (from tensorflow-gpu) (3.3.0)\n",
            "Requirement already satisfied: wrapt~=1.12.1 in /usr/local/lib/python3.7/dist-packages (from tensorflow-gpu) (1.12.1)\n",
            "Requirement already satisfied: numpy~=1.19.2 in /usr/local/lib/python3.7/dist-packages (from tensorflow-gpu) (1.19.5)\n",
            "Requirement already satisfied: protobuf>=3.9.2 in /usr/local/lib/python3.7/dist-packages (from tensorflow-gpu) (3.12.4)\n",
            "Requirement already satisfied: google-pasta~=0.2 in /usr/local/lib/python3.7/dist-packages (from tensorflow-gpu) (0.2.0)\n",
            "Requirement already satisfied: gast==0.3.3 in /usr/local/lib/python3.7/dist-packages (from tensorflow-gpu) (0.3.3)\n",
            "Requirement already satisfied: tensorflow-estimator<2.5.0,>=2.4.0 in /usr/local/lib/python3.7/dist-packages (from tensorflow-gpu) (2.4.0)\n",
            "Requirement already satisfied: h5py~=2.10.0 in /usr/local/lib/python3.7/dist-packages (from tensorflow-gpu) (2.10.0)\n",
            "Requirement already satisfied: absl-py~=0.10 in /usr/local/lib/python3.7/dist-packages (from tensorflow-gpu) (0.10.0)\n",
            "Requirement already satisfied: six~=1.15.0 in /usr/local/lib/python3.7/dist-packages (from tensorflow-gpu) (1.15.0)\n",
            "Requirement already satisfied: tensorboard~=2.4 in /usr/local/lib/python3.7/dist-packages (from tensorflow-gpu) (2.4.1)\n",
            "Requirement already satisfied: flatbuffers~=1.12.0 in /usr/local/lib/python3.7/dist-packages (from tensorflow-gpu) (1.12)\n",
            "Requirement already satisfied: setuptools in /usr/local/lib/python3.7/dist-packages (from protobuf>=3.9.2->tensorflow-gpu) (54.0.0)\n",
            "Requirement already satisfied: tensorboard-plugin-wit>=1.6.0 in /usr/local/lib/python3.7/dist-packages (from tensorboard~=2.4->tensorflow-gpu) (1.8.0)\n",
            "Requirement already satisfied: google-auth<2,>=1.6.3 in /usr/local/lib/python3.7/dist-packages (from tensorboard~=2.4->tensorflow-gpu) (1.27.1)\n",
            "Requirement already satisfied: google-auth-oauthlib<0.5,>=0.4.1 in /usr/local/lib/python3.7/dist-packages (from tensorboard~=2.4->tensorflow-gpu) (0.4.3)\n",
            "Requirement already satisfied: werkzeug>=0.11.15 in /usr/local/lib/python3.7/dist-packages (from tensorboard~=2.4->tensorflow-gpu) (1.0.1)\n",
            "Requirement already satisfied: requests<3,>=2.21.0 in /usr/local/lib/python3.7/dist-packages (from tensorboard~=2.4->tensorflow-gpu) (2.23.0)\n",
            "Requirement already satisfied: markdown>=2.6.8 in /usr/local/lib/python3.7/dist-packages (from tensorboard~=2.4->tensorflow-gpu) (3.3.4)\n",
            "Requirement already satisfied: rsa<5,>=3.1.4; python_version >= \"3.6\" in /usr/local/lib/python3.7/dist-packages (from google-auth<2,>=1.6.3->tensorboard~=2.4->tensorflow-gpu) (4.7.2)\n",
            "Requirement already satisfied: pyasn1-modules>=0.2.1 in /usr/local/lib/python3.7/dist-packages (from google-auth<2,>=1.6.3->tensorboard~=2.4->tensorflow-gpu) (0.2.8)\n",
            "Requirement already satisfied: cachetools<5.0,>=2.0.0 in /usr/local/lib/python3.7/dist-packages (from google-auth<2,>=1.6.3->tensorboard~=2.4->tensorflow-gpu) (4.2.1)\n",
            "Requirement already satisfied: requests-oauthlib>=0.7.0 in /usr/local/lib/python3.7/dist-packages (from google-auth-oauthlib<0.5,>=0.4.1->tensorboard~=2.4->tensorflow-gpu) (1.3.0)\n",
            "Requirement already satisfied: idna<3,>=2.5 in /usr/local/lib/python3.7/dist-packages (from requests<3,>=2.21.0->tensorboard~=2.4->tensorflow-gpu) (2.10)\n",
            "Requirement already satisfied: certifi>=2017.4.17 in /usr/local/lib/python3.7/dist-packages (from requests<3,>=2.21.0->tensorboard~=2.4->tensorflow-gpu) (2020.12.5)\n",
            "Requirement already satisfied: chardet<4,>=3.0.2 in /usr/local/lib/python3.7/dist-packages (from requests<3,>=2.21.0->tensorboard~=2.4->tensorflow-gpu) (3.0.4)\n",
            "Requirement already satisfied: urllib3!=1.25.0,!=1.25.1,<1.26,>=1.21.1 in /usr/local/lib/python3.7/dist-packages (from requests<3,>=2.21.0->tensorboard~=2.4->tensorflow-gpu) (1.24.3)\n",
            "Requirement already satisfied: importlib-metadata; python_version < \"3.8\" in /usr/local/lib/python3.7/dist-packages (from markdown>=2.6.8->tensorboard~=2.4->tensorflow-gpu) (3.7.0)\n",
            "Requirement already satisfied: pyasn1>=0.1.3 in /usr/local/lib/python3.7/dist-packages (from rsa<5,>=3.1.4; python_version >= \"3.6\"->google-auth<2,>=1.6.3->tensorboard~=2.4->tensorflow-gpu) (0.4.8)\n",
            "Requirement already satisfied: oauthlib>=3.0.0 in /usr/local/lib/python3.7/dist-packages (from requests-oauthlib>=0.7.0->google-auth-oauthlib<0.5,>=0.4.1->tensorboard~=2.4->tensorflow-gpu) (3.1.0)\n",
            "Requirement already satisfied: zipp>=0.5 in /usr/local/lib/python3.7/dist-packages (from importlib-metadata; python_version < \"3.8\"->markdown>=2.6.8->tensorboard~=2.4->tensorflow-gpu) (3.4.1)\n",
            "Installing collected packages: tensorflow-gpu\n",
            "Successfully installed tensorflow-gpu-2.4.1\n",
            "Requirement already satisfied: nltk in /usr/local/lib/python3.7/dist-packages (3.2.5)\n",
            "Requirement already satisfied: six in /usr/local/lib/python3.7/dist-packages (from nltk) (1.15.0)\n",
            "Requirement already satisfied: Flask in /usr/local/lib/python3.7/dist-packages (1.1.2)\n",
            "Requirement already satisfied: Jinja2>=2.10.1 in /usr/local/lib/python3.7/dist-packages (from Flask) (2.11.3)\n",
            "Requirement already satisfied: Werkzeug>=0.15 in /usr/local/lib/python3.7/dist-packages (from Flask) (1.0.1)\n",
            "Requirement already satisfied: itsdangerous>=0.24 in /usr/local/lib/python3.7/dist-packages (from Flask) (1.1.0)\n",
            "Requirement already satisfied: click>=5.1 in /usr/local/lib/python3.7/dist-packages (from Flask) (7.1.2)\n",
            "Requirement already satisfied: MarkupSafe>=0.23 in /usr/local/lib/python3.7/dist-packages (from Jinja2>=2.10.1->Flask) (1.1.1)\n"
          ],
          "name": "stdout"
        }
      ]
    },
    {
      "cell_type": "code",
      "metadata": {
        "id": "CDCLHjsBDTDu"
      },
      "source": [
        "# libraries\r\n",
        "import random\r\n",
        "from keras.optimizers import SGD\r\n",
        "from keras.layers import Dense, Dropout\r\n",
        "from keras.models import load_model\r\n",
        "from keras.models import Sequential\r\n",
        "import numpy as np\r\n",
        "import pickle\r\n",
        "import json\r\n",
        "import nltk\r\n",
        "from nltk.stem import WordNetLemmatizer\r\n"
      ],
      "execution_count": 2,
      "outputs": []
    },
    {
      "cell_type": "code",
      "metadata": {
        "colab": {
          "base_uri": "https://localhost:8080/"
        },
        "id": "-FoyMWrMDWTb",
        "outputId": "f74b1495-15ec-4840-b9aa-626233cbb612"
      },
      "source": [
        "nltk.download(\"punkt\")\r\n",
        "nltk.download(\"wordnet\")\r\n"
      ],
      "execution_count": 3,
      "outputs": [
        {
          "output_type": "stream",
          "text": [
            "[nltk_data] Downloading package punkt to /root/nltk_data...\n",
            "[nltk_data]   Unzipping tokenizers/punkt.zip.\n",
            "[nltk_data] Downloading package wordnet to /root/nltk_data...\n",
            "[nltk_data]   Unzipping corpora/wordnet.zip.\n"
          ],
          "name": "stdout"
        },
        {
          "output_type": "execute_result",
          "data": {
            "text/plain": [
              "True"
            ]
          },
          "metadata": {
            "tags": []
          },
          "execution_count": 3
        }
      ]
    },
    {
      "cell_type": "code",
      "metadata": {
        "id": "awjQa_P9Dd9z"
      },
      "source": [
        "# init file\r\n",
        "words = []\r\n",
        "classes = []\r\n",
        "documents = []\r\n",
        "ignore_words = [\"?\", \"!\"]\r\n",
        "data_file = open(\"intents.json\").read()\r\n",
        "intents = json.loads(data_file)\r\n",
        "\r\n",
        "lemmatizer = WordNetLemmatizer() "
      ],
      "execution_count": 4,
      "outputs": []
    },
    {
      "cell_type": "code",
      "metadata": {
        "id": "b9V-TJUjDfBz"
      },
      "source": [
        "for intent in intents[\"intents\"]:\r\n",
        "    for pattern in intent[\"patterns\"]:\r\n",
        "\r\n",
        "        # take each word and tokenize it\r\n",
        "        w = nltk.word_tokenize(pattern)\r\n",
        "        words.extend(w)\r\n",
        "        # adding documents\r\n",
        "        documents.append((w, intent[\"tag\"]))\r\n",
        "\r\n",
        "        # adding classes to our class list\r\n",
        "        if intent[\"tag\"] not in classes:\r\n",
        "            classes.append(intent[\"tag\"])\r\n"
      ],
      "execution_count": 5,
      "outputs": []
    },
    {
      "cell_type": "code",
      "metadata": {
        "colab": {
          "base_uri": "https://localhost:8080/"
        },
        "id": "ecb0S25FDihm",
        "outputId": "2deee934-f332-4cab-92aa-4472057110fc"
      },
      "source": [
        "words = [lemmatizer.lemmatize(w.lower()) for w in words if w not in ignore_words]\r\n",
        "words = sorted(list(set(words)))\r\n",
        "\r\n",
        "classes = sorted(list(set(classes)))\r\n",
        "\r\n",
        "print(len(documents), \"documents\")\r\n",
        "\r\n",
        "print(len(classes), \"classes\", classes)\r\n",
        "\r\n",
        "print(len(words), \"unique lemmatized words\", words)\r\n",
        "\r\n",
        "\r\n",
        "pickle.dump(words, open(\"words.pkl\", \"wb\"))\r\n",
        "pickle.dump(classes, open(\"classes.pkl\", \"wb\"))\r\n"
      ],
      "execution_count": 6,
      "outputs": [
        {
          "output_type": "stream",
          "text": [
            "142 documents\n",
            "26 classes [' معلومات عن مقام سيدنا ابراهيم ', 'goodbye', 'greeting', 'options', 'thanks', 'ابعاد برج الساعة', 'السلام', 'المهمة', 'برج الساعة', 'بناء الكعبة', 'ترحيب', 'جبل النور', 'شكراً', 'كيف الحال', 'لايوجد جواب', 'مساحة مسجد التنعيم', 'مساعدة', 'مسجد التنعيم', 'معلومات الكعبة', 'معلومات المسعى', 'معلومات جبل النور', 'موقع برج الساعة', 'موقع مسجد التنعيم', 'موقع مقام سيدنا ابراهيم ', 'وداع', 'وصف مقام سيدنا ابراهيم ']\n",
            "147 unique lemmatized words [\"'s\", ',', 'anyone', 'are', 'awesome', 'be', 'bye', 'can', 'chatting', 'could', 'day', 'do', 'for', 'good', 'goodbye', 'hello', 'help', 'helpful', 'helping', 'hi', 'how', 'is', 'later', 'me', 'next', 'nice', 'offered', 'provide', 'see', 'support', 'thank', 'thanks', 'that', 'there', 'till', 'time', 'to', 'what', 'you', '؟', 'أخبارك', 'أهلا', 'أين', 'إبراهيم', 'ابراهيم', 'ابرهيم', 'ابعاد', 'احتاج', 'اخباركم', 'ارتفاع', 'استخدمك', 'اشكرك', 'الاستخدام', 'التنعيم', 'الجبل', 'الحال', 'الخير', 'الساعة', 'السلام', 'السلامة', 'الشريفة', 'الكعبة', 'اللقاء', 'الله', 'المسعى', 'المسعي', 'المشرفة', 'النور', 'الى', 'انت', 'اهلين', 'ايش', 'اين', 'باي', 'برج', 'بركاته', 'بنا', 'بناء', 'بنفسك', 'بنى', 'بني', 'بنيت', 'تبلغ', 'تعمل', 'تقع', 'تم', 'جبل', 'جزاك', 'جزيلاً', 'حالك', 'حجر', 'خيرا', 'دا', 'دورك', 'رحمة', 'ساعدني', 'سلام', 'سهلا', 'سي', 'سيدنا', 'شكرا', 'شكل', 'شيد', 'شيدت', 'صباح', 'طول', 'عاملين', 'عرض', 'عرفني', 'عليكم', 'عن', 'فين', 'كم', 'كيف', 'كيفك', 'كيفكم', 'كيفية', 'ما', 'ماذا', 'ماهذا', 'ماهو', 'متى', 'مراحب', 'مرحبا', 'مساء', 'مساحة', 'مساعدة', 'مسجد', 'مع', 'معلومات', 'مقام', 'مكان', 'مميزات', 'من', 'مهمتك', 'موقع', 'مين', 'هاي', 'هايات', 'هلا', 'و', 'وداعا', 'وصف', 'وين', 'يبلغ', 'يقع', 'يو']\n"
          ],
          "name": "stdout"
        }
      ]
    },
    {
      "cell_type": "code",
      "metadata": {
        "colab": {
          "base_uri": "https://localhost:8080/"
        },
        "id": "9g6EoTYODrhI",
        "outputId": "bd29bf46-55ef-4230-8111-ebf02a685434"
      },
      "source": [
        "# initializing training data\r\n",
        "training = []\r\n",
        "output_empty = [0] * len(classes)\r\n",
        "for doc in documents:\r\n",
        "    # initializing bag of words\r\n",
        "    bag = []\r\n",
        "    # list of tokenized words for the pattern\r\n",
        "    pattern_words = doc[0]\r\n",
        "    # lemmatize each word - create base word, in attempt to represent related words\r\n",
        "    pattern_words = [lemmatizer.lemmatize(word.lower()) for word in pattern_words]\r\n",
        "    # create our bag of words array with 1, if word match found in current pattern\r\n",
        "    for w in words:\r\n",
        "        bag.append(1) if w in pattern_words else bag.append(0)\r\n",
        "\r\n",
        "    # output is a '0' for each tag and '1' for current tag (for each pattern)\r\n",
        "    output_row = list(output_empty)\r\n",
        "    output_row[classes.index(doc[1])] = 1\r\n",
        "\r\n",
        "    training.append([bag, output_row])\r\n",
        "# shuffle our features and turn into np.array\r\n",
        "random.shuffle(training)\r\n",
        "training = np.array(training)\r\n",
        "# create train and test lists. X - patterns, Y - intents\r\n",
        "train_x = list(training[:, 0])\r\n",
        "train_y = list(training[:, 1])\r\n",
        "print(\"Training data created\")\r\n"
      ],
      "execution_count": 7,
      "outputs": [
        {
          "output_type": "stream",
          "text": [
            "Training data created\n"
          ],
          "name": "stdout"
        },
        {
          "output_type": "stream",
          "text": [
            "/usr/local/lib/python3.7/dist-packages/ipykernel_launcher.py:22: VisibleDeprecationWarning: Creating an ndarray from ragged nested sequences (which is a list-or-tuple of lists-or-tuples-or ndarrays with different lengths or shapes) is deprecated. If you meant to do this, you must specify 'dtype=object' when creating the ndarray\n"
          ],
          "name": "stderr"
        }
      ]
    },
    {
      "cell_type": "code",
      "metadata": {
        "colab": {
          "base_uri": "https://localhost:8080/"
        },
        "id": "IL_eKUaUER0l",
        "outputId": "d4dca7f5-50d1-4b05-c403-c03d5f122ac2"
      },
      "source": [
        "model = Sequential()\r\n",
        "model.add(Dense(128, input_shape=(len(train_x[0]),), activation=\"relu\"))\r\n",
        "model.add(Dropout(0.5))\r\n",
        "model.add(Dense(64, activation=\"relu\"))\r\n",
        "model.add(Dropout(0.5))\r\n",
        "model.add(Dense(len(train_y[0]), activation=\"softmax\"))\r\n",
        "model.summary()\r\n"
      ],
      "execution_count": 8,
      "outputs": [
        {
          "output_type": "stream",
          "text": [
            "Model: \"sequential\"\n",
            "_________________________________________________________________\n",
            "Layer (type)                 Output Shape              Param #   \n",
            "=================================================================\n",
            "dense (Dense)                (None, 128)               18944     \n",
            "_________________________________________________________________\n",
            "dropout (Dropout)            (None, 128)               0         \n",
            "_________________________________________________________________\n",
            "dense_1 (Dense)              (None, 64)                8256      \n",
            "_________________________________________________________________\n",
            "dropout_1 (Dropout)          (None, 64)                0         \n",
            "_________________________________________________________________\n",
            "dense_2 (Dense)              (None, 26)                1690      \n",
            "=================================================================\n",
            "Total params: 28,890\n",
            "Trainable params: 28,890\n",
            "Non-trainable params: 0\n",
            "_________________________________________________________________\n"
          ],
          "name": "stdout"
        }
      ]
    },
    {
      "cell_type": "code",
      "metadata": {
        "id": "n8jATLqhEVBj"
      },
      "source": [
        "sgd = SGD(lr=0.01, decay=1e-6, momentum=0.9, nesterov=True)\r\n",
        "model.compile(loss=\"categorical_crossentropy\", optimizer=sgd, metrics=[\"accuracy\"])\r\n",
        "\r\n"
      ],
      "execution_count": 9,
      "outputs": []
    },
    {
      "cell_type": "code",
      "metadata": {
        "id": "7kOJgGBIEYjy"
      },
      "source": [
        "from keras import callbacks \r\n",
        "earlystopping = callbacks.EarlyStopping(monitor =\"loss\", mode =\"min\", patience = 5, restore_best_weights = True)\r\n",
        "callbacks =[earlystopping]\r\n"
      ],
      "execution_count": 10,
      "outputs": []
    },
    {
      "cell_type": "code",
      "metadata": {
        "colab": {
          "base_uri": "https://localhost:8080/"
        },
        "id": "uvCFakUBEavI",
        "outputId": "79a32349-0152-4910-ffa4-51e7e6ce3f66"
      },
      "source": [
        "hist = model.fit(np.array(train_x), np.array(train_y), epochs=200, batch_size=5, verbose=1)\r\n",
        "model.save(\"chatbot_model.h5\", hist)\r\n",
        "print(\"model created\")\r\n"
      ],
      "execution_count": 11,
      "outputs": [
        {
          "output_type": "stream",
          "text": [
            "Epoch 1/200\n",
            "29/29 [==============================] - 1s 1ms/step - loss: 3.2697 - accuracy: 0.0645 \n",
            "Epoch 2/200\n",
            "29/29 [==============================] - 0s 1ms/step - loss: 3.2183 - accuracy: 0.0907\n",
            "Epoch 3/200\n",
            "29/29 [==============================] - 0s 1ms/step - loss: 3.1117 - accuracy: 0.1670\n",
            "Epoch 4/200\n",
            "29/29 [==============================] - 0s 1ms/step - loss: 2.8766 - accuracy: 0.1966\n",
            "Epoch 5/200\n",
            "29/29 [==============================] - 0s 1ms/step - loss: 2.5954 - accuracy: 0.2982\n",
            "Epoch 6/200\n",
            "29/29 [==============================] - 0s 1ms/step - loss: 2.4675 - accuracy: 0.3395\n",
            "Epoch 7/200\n",
            "29/29 [==============================] - 0s 1ms/step - loss: 2.3583 - accuracy: 0.3120\n",
            "Epoch 8/200\n",
            "29/29 [==============================] - 0s 1ms/step - loss: 2.2689 - accuracy: 0.3734\n",
            "Epoch 9/200\n",
            "29/29 [==============================] - 0s 1ms/step - loss: 2.0717 - accuracy: 0.3896\n",
            "Epoch 10/200\n",
            "29/29 [==============================] - 0s 1ms/step - loss: 1.8603 - accuracy: 0.4899\n",
            "Epoch 11/200\n",
            "29/29 [==============================] - 0s 1ms/step - loss: 1.7707 - accuracy: 0.4917\n",
            "Epoch 12/200\n",
            "29/29 [==============================] - 0s 1ms/step - loss: 1.6117 - accuracy: 0.5492\n",
            "Epoch 13/200\n",
            "29/29 [==============================] - 0s 1ms/step - loss: 1.5780 - accuracy: 0.4906\n",
            "Epoch 14/200\n",
            "29/29 [==============================] - 0s 1ms/step - loss: 1.5062 - accuracy: 0.5667\n",
            "Epoch 15/200\n",
            "29/29 [==============================] - 0s 1ms/step - loss: 1.3522 - accuracy: 0.5575\n",
            "Epoch 16/200\n",
            "29/29 [==============================] - 0s 1ms/step - loss: 1.1835 - accuracy: 0.6478\n",
            "Epoch 17/200\n",
            "29/29 [==============================] - 0s 1ms/step - loss: 1.1883 - accuracy: 0.6533\n",
            "Epoch 18/200\n",
            "29/29 [==============================] - 0s 1ms/step - loss: 1.1470 - accuracy: 0.6822\n",
            "Epoch 19/200\n",
            "29/29 [==============================] - 0s 1ms/step - loss: 0.9942 - accuracy: 0.6855\n",
            "Epoch 20/200\n",
            "29/29 [==============================] - 0s 1ms/step - loss: 1.0210 - accuracy: 0.6974\n",
            "Epoch 21/200\n",
            "29/29 [==============================] - 0s 1ms/step - loss: 1.1025 - accuracy: 0.6434\n",
            "Epoch 22/200\n",
            "29/29 [==============================] - 0s 1ms/step - loss: 1.0552 - accuracy: 0.6461\n",
            "Epoch 23/200\n",
            "29/29 [==============================] - 0s 1ms/step - loss: 0.9043 - accuracy: 0.7269\n",
            "Epoch 24/200\n",
            "29/29 [==============================] - 0s 1ms/step - loss: 0.6345 - accuracy: 0.8340\n",
            "Epoch 25/200\n",
            "29/29 [==============================] - 0s 1ms/step - loss: 0.6533 - accuracy: 0.8106\n",
            "Epoch 26/200\n",
            "29/29 [==============================] - 0s 1ms/step - loss: 0.8499 - accuracy: 0.7432\n",
            "Epoch 27/200\n",
            "29/29 [==============================] - 0s 1ms/step - loss: 0.7001 - accuracy: 0.7939\n",
            "Epoch 28/200\n",
            "29/29 [==============================] - 0s 1ms/step - loss: 0.7922 - accuracy: 0.7266\n",
            "Epoch 29/200\n",
            "29/29 [==============================] - 0s 1ms/step - loss: 0.6039 - accuracy: 0.8381\n",
            "Epoch 30/200\n",
            "29/29 [==============================] - 0s 1ms/step - loss: 0.6280 - accuracy: 0.8059\n",
            "Epoch 31/200\n",
            "29/29 [==============================] - 0s 1ms/step - loss: 0.5976 - accuracy: 0.8256\n",
            "Epoch 32/200\n",
            "29/29 [==============================] - 0s 1ms/step - loss: 0.5349 - accuracy: 0.8155\n",
            "Epoch 33/200\n",
            "29/29 [==============================] - 0s 1ms/step - loss: 0.6259 - accuracy: 0.8227\n",
            "Epoch 34/200\n",
            "29/29 [==============================] - 0s 1ms/step - loss: 0.4244 - accuracy: 0.8817\n",
            "Epoch 35/200\n",
            "29/29 [==============================] - 0s 1ms/step - loss: 0.5185 - accuracy: 0.8657\n",
            "Epoch 36/200\n",
            "29/29 [==============================] - 0s 1ms/step - loss: 0.4373 - accuracy: 0.8623\n",
            "Epoch 37/200\n",
            "29/29 [==============================] - 0s 1ms/step - loss: 0.4598 - accuracy: 0.8421\n",
            "Epoch 38/200\n",
            "29/29 [==============================] - 0s 1ms/step - loss: 0.6464 - accuracy: 0.7240\n",
            "Epoch 39/200\n",
            "29/29 [==============================] - 0s 1ms/step - loss: 0.3881 - accuracy: 0.9095\n",
            "Epoch 40/200\n",
            "29/29 [==============================] - 0s 1ms/step - loss: 0.4346 - accuracy: 0.8727\n",
            "Epoch 41/200\n",
            "29/29 [==============================] - 0s 1ms/step - loss: 0.3782 - accuracy: 0.8956\n",
            "Epoch 42/200\n",
            "29/29 [==============================] - 0s 1ms/step - loss: 0.2945 - accuracy: 0.9390\n",
            "Epoch 43/200\n",
            "29/29 [==============================] - 0s 1ms/step - loss: 0.3489 - accuracy: 0.8987\n",
            "Epoch 44/200\n",
            "29/29 [==============================] - 0s 1ms/step - loss: 0.3435 - accuracy: 0.9153\n",
            "Epoch 45/200\n",
            "29/29 [==============================] - 0s 1ms/step - loss: 0.4756 - accuracy: 0.8957\n",
            "Epoch 46/200\n",
            "29/29 [==============================] - 0s 1ms/step - loss: 0.2985 - accuracy: 0.9540\n",
            "Epoch 47/200\n",
            "29/29 [==============================] - 0s 1ms/step - loss: 0.2646 - accuracy: 0.9176\n",
            "Epoch 48/200\n",
            "29/29 [==============================] - 0s 1ms/step - loss: 0.4881 - accuracy: 0.8510\n",
            "Epoch 49/200\n",
            "29/29 [==============================] - 0s 1ms/step - loss: 0.3156 - accuracy: 0.9021\n",
            "Epoch 50/200\n",
            "29/29 [==============================] - 0s 1ms/step - loss: 0.3015 - accuracy: 0.8674\n",
            "Epoch 51/200\n",
            "29/29 [==============================] - 0s 1ms/step - loss: 0.2664 - accuracy: 0.9388\n",
            "Epoch 52/200\n",
            "29/29 [==============================] - 0s 1ms/step - loss: 0.3411 - accuracy: 0.8858\n",
            "Epoch 53/200\n",
            "29/29 [==============================] - 0s 1ms/step - loss: 0.3848 - accuracy: 0.8745\n",
            "Epoch 54/200\n",
            "29/29 [==============================] - 0s 1ms/step - loss: 0.3626 - accuracy: 0.8802\n",
            "Epoch 55/200\n",
            "29/29 [==============================] - 0s 1ms/step - loss: 0.4363 - accuracy: 0.8452\n",
            "Epoch 56/200\n",
            "29/29 [==============================] - 0s 1ms/step - loss: 0.2073 - accuracy: 0.9478\n",
            "Epoch 57/200\n",
            "29/29 [==============================] - 0s 1ms/step - loss: 0.2374 - accuracy: 0.9561\n",
            "Epoch 58/200\n",
            "29/29 [==============================] - 0s 1ms/step - loss: 0.2345 - accuracy: 0.9245\n",
            "Epoch 59/200\n",
            "29/29 [==============================] - 0s 1ms/step - loss: 0.2639 - accuracy: 0.9247\n",
            "Epoch 60/200\n",
            "29/29 [==============================] - 0s 1ms/step - loss: 0.3669 - accuracy: 0.8602\n",
            "Epoch 61/200\n",
            "29/29 [==============================] - 0s 1ms/step - loss: 0.2291 - accuracy: 0.9143\n",
            "Epoch 62/200\n",
            "29/29 [==============================] - 0s 1ms/step - loss: 0.1928 - accuracy: 0.9431\n",
            "Epoch 63/200\n",
            "29/29 [==============================] - 0s 1ms/step - loss: 0.2686 - accuracy: 0.9225\n",
            "Epoch 64/200\n",
            "29/29 [==============================] - 0s 1ms/step - loss: 0.2384 - accuracy: 0.9496\n",
            "Epoch 65/200\n",
            "29/29 [==============================] - 0s 1ms/step - loss: 0.2698 - accuracy: 0.9040\n",
            "Epoch 66/200\n",
            "29/29 [==============================] - 0s 1ms/step - loss: 0.3409 - accuracy: 0.8710\n",
            "Epoch 67/200\n",
            "29/29 [==============================] - 0s 1ms/step - loss: 0.1983 - accuracy: 0.9255\n",
            "Epoch 68/200\n",
            "29/29 [==============================] - 0s 1ms/step - loss: 0.1619 - accuracy: 0.9607\n",
            "Epoch 69/200\n",
            "29/29 [==============================] - 0s 1ms/step - loss: 0.1112 - accuracy: 0.9786\n",
            "Epoch 70/200\n",
            "29/29 [==============================] - 0s 1ms/step - loss: 0.1670 - accuracy: 0.9455\n",
            "Epoch 71/200\n",
            "29/29 [==============================] - 0s 1ms/step - loss: 0.2003 - accuracy: 0.9207\n",
            "Epoch 72/200\n",
            "29/29 [==============================] - 0s 1ms/step - loss: 0.2137 - accuracy: 0.9497\n",
            "Epoch 73/200\n",
            "29/29 [==============================] - 0s 1ms/step - loss: 0.2067 - accuracy: 0.9243\n",
            "Epoch 74/200\n",
            "29/29 [==============================] - 0s 1ms/step - loss: 0.1175 - accuracy: 0.9846\n",
            "Epoch 75/200\n",
            "29/29 [==============================] - 0s 1ms/step - loss: 0.2509 - accuracy: 0.9197\n",
            "Epoch 76/200\n",
            "29/29 [==============================] - 0s 1ms/step - loss: 0.1669 - accuracy: 0.9563\n",
            "Epoch 77/200\n",
            "29/29 [==============================] - 0s 1ms/step - loss: 0.3713 - accuracy: 0.8820\n",
            "Epoch 78/200\n",
            "29/29 [==============================] - 0s 1ms/step - loss: 0.2017 - accuracy: 0.9086\n",
            "Epoch 79/200\n",
            "29/29 [==============================] - 0s 1ms/step - loss: 0.1207 - accuracy: 0.9740\n",
            "Epoch 80/200\n",
            "29/29 [==============================] - 0s 1ms/step - loss: 0.1144 - accuracy: 0.9554\n",
            "Epoch 81/200\n",
            "29/29 [==============================] - 0s 1ms/step - loss: 0.1459 - accuracy: 0.9568\n",
            "Epoch 82/200\n",
            "29/29 [==============================] - 0s 1ms/step - loss: 0.2073 - accuracy: 0.9467\n",
            "Epoch 83/200\n",
            "29/29 [==============================] - 0s 1ms/step - loss: 0.2184 - accuracy: 0.9186\n",
            "Epoch 84/200\n",
            "29/29 [==============================] - 0s 1ms/step - loss: 0.1708 - accuracy: 0.9591\n",
            "Epoch 85/200\n",
            "29/29 [==============================] - 0s 1ms/step - loss: 0.1159 - accuracy: 0.9565\n",
            "Epoch 86/200\n",
            "29/29 [==============================] - 0s 1ms/step - loss: 0.1072 - accuracy: 0.9814\n",
            "Epoch 87/200\n",
            "29/29 [==============================] - 0s 1ms/step - loss: 0.1956 - accuracy: 0.9301\n",
            "Epoch 88/200\n",
            "29/29 [==============================] - 0s 1ms/step - loss: 0.1038 - accuracy: 0.9853\n",
            "Epoch 89/200\n",
            "29/29 [==============================] - 0s 1ms/step - loss: 0.1693 - accuracy: 0.9398\n",
            "Epoch 90/200\n",
            "29/29 [==============================] - 0s 1ms/step - loss: 0.1648 - accuracy: 0.9601\n",
            "Epoch 91/200\n",
            "29/29 [==============================] - 0s 1ms/step - loss: 0.1702 - accuracy: 0.9290\n",
            "Epoch 92/200\n",
            "29/29 [==============================] - 0s 1ms/step - loss: 0.2124 - accuracy: 0.9452\n",
            "Epoch 93/200\n",
            "29/29 [==============================] - 0s 1ms/step - loss: 0.1552 - accuracy: 0.9459\n",
            "Epoch 94/200\n",
            "29/29 [==============================] - 0s 1ms/step - loss: 0.1735 - accuracy: 0.9288\n",
            "Epoch 95/200\n",
            "29/29 [==============================] - 0s 1ms/step - loss: 0.1576 - accuracy: 0.9650\n",
            "Epoch 96/200\n",
            "29/29 [==============================] - 0s 1ms/step - loss: 0.1673 - accuracy: 0.9547\n",
            "Epoch 97/200\n",
            "29/29 [==============================] - 0s 1ms/step - loss: 0.1654 - accuracy: 0.9411\n",
            "Epoch 98/200\n",
            "29/29 [==============================] - 0s 1ms/step - loss: 0.1669 - accuracy: 0.9563\n",
            "Epoch 99/200\n",
            "29/29 [==============================] - 0s 1ms/step - loss: 0.1082 - accuracy: 0.9589\n",
            "Epoch 100/200\n",
            "29/29 [==============================] - 0s 1ms/step - loss: 0.1047 - accuracy: 0.9828\n",
            "Epoch 101/200\n",
            "29/29 [==============================] - 0s 1ms/step - loss: 0.1175 - accuracy: 0.9785\n",
            "Epoch 102/200\n",
            "29/29 [==============================] - 0s 1ms/step - loss: 0.1067 - accuracy: 0.9609\n",
            "Epoch 103/200\n",
            "29/29 [==============================] - 0s 1ms/step - loss: 0.1273 - accuracy: 0.9689\n",
            "Epoch 104/200\n",
            "29/29 [==============================] - 0s 1ms/step - loss: 0.1440 - accuracy: 0.9490\n",
            "Epoch 105/200\n",
            "29/29 [==============================] - 0s 1ms/step - loss: 0.1448 - accuracy: 0.9418\n",
            "Epoch 106/200\n",
            "29/29 [==============================] - 0s 1ms/step - loss: 0.1068 - accuracy: 0.9897\n",
            "Epoch 107/200\n",
            "29/29 [==============================] - 0s 1ms/step - loss: 0.0680 - accuracy: 0.9740\n",
            "Epoch 108/200\n",
            "29/29 [==============================] - 0s 1ms/step - loss: 0.1039 - accuracy: 0.9675\n",
            "Epoch 109/200\n",
            "29/29 [==============================] - 0s 1ms/step - loss: 0.1418 - accuracy: 0.9318\n",
            "Epoch 110/200\n",
            "29/29 [==============================] - 0s 1ms/step - loss: 0.1637 - accuracy: 0.9545\n",
            "Epoch 111/200\n",
            "29/29 [==============================] - 0s 1ms/step - loss: 0.1271 - accuracy: 0.9346\n",
            "Epoch 112/200\n",
            "29/29 [==============================] - 0s 1ms/step - loss: 0.1748 - accuracy: 0.9694\n",
            "Epoch 113/200\n",
            "29/29 [==============================] - 0s 1ms/step - loss: 0.1519 - accuracy: 0.9367\n",
            "Epoch 114/200\n",
            "29/29 [==============================] - 0s 1ms/step - loss: 0.1317 - accuracy: 0.9504\n",
            "Epoch 115/200\n",
            "29/29 [==============================] - 0s 1ms/step - loss: 0.1266 - accuracy: 0.9204\n",
            "Epoch 116/200\n",
            "29/29 [==============================] - 0s 1ms/step - loss: 0.0652 - accuracy: 0.9871\n",
            "Epoch 117/200\n",
            "29/29 [==============================] - 0s 1ms/step - loss: 0.0855 - accuracy: 0.9827\n",
            "Epoch 118/200\n",
            "29/29 [==============================] - 0s 1ms/step - loss: 0.1559 - accuracy: 0.9373\n",
            "Epoch 119/200\n",
            "29/29 [==============================] - 0s 1ms/step - loss: 0.0943 - accuracy: 0.9543\n",
            "Epoch 120/200\n",
            "29/29 [==============================] - 0s 1ms/step - loss: 0.1082 - accuracy: 0.9584\n",
            "Epoch 121/200\n",
            "29/29 [==============================] - 0s 1ms/step - loss: 0.1295 - accuracy: 0.9596\n",
            "Epoch 122/200\n",
            "29/29 [==============================] - 0s 1ms/step - loss: 0.0542 - accuracy: 0.9990\n",
            "Epoch 123/200\n",
            "29/29 [==============================] - 0s 2ms/step - loss: 0.1011 - accuracy: 0.9909\n",
            "Epoch 124/200\n",
            "29/29 [==============================] - 0s 1ms/step - loss: 0.1250 - accuracy: 0.9513\n",
            "Epoch 125/200\n",
            "29/29 [==============================] - 0s 1ms/step - loss: 0.2031 - accuracy: 0.9588\n",
            "Epoch 126/200\n",
            "29/29 [==============================] - 0s 1ms/step - loss: 0.1249 - accuracy: 0.9543\n",
            "Epoch 127/200\n",
            "29/29 [==============================] - 0s 1ms/step - loss: 0.0774 - accuracy: 0.9794\n",
            "Epoch 128/200\n",
            "29/29 [==============================] - 0s 1ms/step - loss: 0.1339 - accuracy: 0.9676\n",
            "Epoch 129/200\n",
            "29/29 [==============================] - 0s 1ms/step - loss: 0.0693 - accuracy: 0.9990\n",
            "Epoch 130/200\n",
            "29/29 [==============================] - 0s 1ms/step - loss: 0.1250 - accuracy: 0.9734\n",
            "Epoch 131/200\n",
            "29/29 [==============================] - 0s 1ms/step - loss: 0.1134 - accuracy: 0.9598\n",
            "Epoch 132/200\n",
            "29/29 [==============================] - 0s 1ms/step - loss: 0.1588 - accuracy: 0.9651\n",
            "Epoch 133/200\n",
            "29/29 [==============================] - 0s 1ms/step - loss: 0.0732 - accuracy: 0.9882\n",
            "Epoch 134/200\n",
            "29/29 [==============================] - 0s 1ms/step - loss: 0.1173 - accuracy: 0.9627\n",
            "Epoch 135/200\n",
            "29/29 [==============================] - 0s 1ms/step - loss: 0.0824 - accuracy: 0.9757\n",
            "Epoch 136/200\n",
            "29/29 [==============================] - 0s 1ms/step - loss: 0.0597 - accuracy: 0.9808\n",
            "Epoch 137/200\n",
            "29/29 [==============================] - 0s 2ms/step - loss: 0.0916 - accuracy: 0.9596\n",
            "Epoch 138/200\n",
            "29/29 [==============================] - 0s 1ms/step - loss: 0.1505 - accuracy: 0.9610\n",
            "Epoch 139/200\n",
            "29/29 [==============================] - 0s 1ms/step - loss: 0.1010 - accuracy: 0.9645\n",
            "Epoch 140/200\n",
            "29/29 [==============================] - 0s 1ms/step - loss: 0.1991 - accuracy: 0.9260\n",
            "Epoch 141/200\n",
            "29/29 [==============================] - 0s 1ms/step - loss: 0.0669 - accuracy: 0.9838\n",
            "Epoch 142/200\n",
            "29/29 [==============================] - 0s 1ms/step - loss: 0.1056 - accuracy: 0.9599\n",
            "Epoch 143/200\n",
            "29/29 [==============================] - 0s 1ms/step - loss: 0.0658 - accuracy: 0.9913\n",
            "Epoch 144/200\n",
            "29/29 [==============================] - 0s 1ms/step - loss: 0.0730 - accuracy: 0.9896\n",
            "Epoch 145/200\n",
            "29/29 [==============================] - 0s 1ms/step - loss: 0.1130 - accuracy: 0.9697\n",
            "Epoch 146/200\n",
            "29/29 [==============================] - 0s 1ms/step - loss: 0.0664 - accuracy: 0.9858\n",
            "Epoch 147/200\n",
            "29/29 [==============================] - 0s 1ms/step - loss: 0.1110 - accuracy: 0.9599\n",
            "Epoch 148/200\n",
            "29/29 [==============================] - 0s 1ms/step - loss: 0.0785 - accuracy: 0.9802\n",
            "Epoch 149/200\n",
            "29/29 [==============================] - 0s 1ms/step - loss: 0.0655 - accuracy: 1.0000\n",
            "Epoch 150/200\n",
            "29/29 [==============================] - 0s 1ms/step - loss: 0.1233 - accuracy: 0.9443\n",
            "Epoch 151/200\n",
            "29/29 [==============================] - 0s 1ms/step - loss: 0.0918 - accuracy: 0.9679\n",
            "Epoch 152/200\n",
            "29/29 [==============================] - 0s 1ms/step - loss: 0.0905 - accuracy: 0.9506\n",
            "Epoch 153/200\n",
            "29/29 [==============================] - 0s 2ms/step - loss: 0.1092 - accuracy: 0.9583\n",
            "Epoch 154/200\n",
            "29/29 [==============================] - 0s 1ms/step - loss: 0.0871 - accuracy: 0.9750\n",
            "Epoch 155/200\n",
            "29/29 [==============================] - 0s 1ms/step - loss: 0.0981 - accuracy: 0.9702\n",
            "Epoch 156/200\n",
            "29/29 [==============================] - 0s 1ms/step - loss: 0.1328 - accuracy: 0.9751\n",
            "Epoch 157/200\n",
            "29/29 [==============================] - 0s 1ms/step - loss: 0.1513 - accuracy: 0.9643\n",
            "Epoch 158/200\n",
            "29/29 [==============================] - 0s 2ms/step - loss: 0.0850 - accuracy: 0.9826\n",
            "Epoch 159/200\n",
            "29/29 [==============================] - 0s 1ms/step - loss: 0.0248 - accuracy: 1.0000\n",
            "Epoch 160/200\n",
            "29/29 [==============================] - 0s 1ms/step - loss: 0.0368 - accuracy: 0.9927\n",
            "Epoch 161/200\n",
            "29/29 [==============================] - 0s 2ms/step - loss: 0.0856 - accuracy: 0.9467\n",
            "Epoch 162/200\n",
            "29/29 [==============================] - 0s 2ms/step - loss: 0.0569 - accuracy: 0.9761\n",
            "Epoch 163/200\n",
            "29/29 [==============================] - 0s 1ms/step - loss: 0.0851 - accuracy: 0.9681\n",
            "Epoch 164/200\n",
            "29/29 [==============================] - 0s 1ms/step - loss: 0.1141 - accuracy: 0.9668\n",
            "Epoch 165/200\n",
            "29/29 [==============================] - 0s 1ms/step - loss: 0.0769 - accuracy: 0.9711\n",
            "Epoch 166/200\n",
            "29/29 [==============================] - 0s 1ms/step - loss: 0.0752 - accuracy: 0.9646\n",
            "Epoch 167/200\n",
            "29/29 [==============================] - 0s 1ms/step - loss: 0.1132 - accuracy: 0.9713\n",
            "Epoch 168/200\n",
            "29/29 [==============================] - 0s 1ms/step - loss: 0.0869 - accuracy: 0.9569\n",
            "Epoch 169/200\n",
            "29/29 [==============================] - 0s 1ms/step - loss: 0.1778 - accuracy: 0.9711\n",
            "Epoch 170/200\n",
            "29/29 [==============================] - 0s 1ms/step - loss: 0.0923 - accuracy: 0.9786\n",
            "Epoch 171/200\n",
            "29/29 [==============================] - 0s 1ms/step - loss: 0.1236 - accuracy: 0.9651\n",
            "Epoch 172/200\n",
            "29/29 [==============================] - 0s 1ms/step - loss: 0.0420 - accuracy: 0.9829\n",
            "Epoch 173/200\n",
            "29/29 [==============================] - 0s 1ms/step - loss: 0.0520 - accuracy: 0.9919\n",
            "Epoch 174/200\n",
            "29/29 [==============================] - 0s 1ms/step - loss: 0.1233 - accuracy: 0.9506\n",
            "Epoch 175/200\n",
            "29/29 [==============================] - 0s 1ms/step - loss: 0.1905 - accuracy: 0.9437\n",
            "Epoch 176/200\n",
            "29/29 [==============================] - 0s 1ms/step - loss: 0.0378 - accuracy: 0.9973\n",
            "Epoch 177/200\n",
            "29/29 [==============================] - 0s 1ms/step - loss: 0.0797 - accuracy: 0.9801\n",
            "Epoch 178/200\n",
            "29/29 [==============================] - 0s 1ms/step - loss: 0.0874 - accuracy: 0.9723\n",
            "Epoch 179/200\n",
            "29/29 [==============================] - 0s 1ms/step - loss: 0.0385 - accuracy: 0.9956\n",
            "Epoch 180/200\n",
            "29/29 [==============================] - 0s 1ms/step - loss: 0.0713 - accuracy: 0.9947\n",
            "Epoch 181/200\n",
            "29/29 [==============================] - 0s 1ms/step - loss: 0.0836 - accuracy: 0.9718\n",
            "Epoch 182/200\n",
            "29/29 [==============================] - 0s 1ms/step - loss: 0.0941 - accuracy: 0.9537\n",
            "Epoch 183/200\n",
            "29/29 [==============================] - 0s 1ms/step - loss: 0.0510 - accuracy: 0.9929\n",
            "Epoch 184/200\n",
            "29/29 [==============================] - 0s 1ms/step - loss: 0.0327 - accuracy: 0.9922\n",
            "Epoch 185/200\n",
            "29/29 [==============================] - 0s 1ms/step - loss: 0.0714 - accuracy: 0.9741\n",
            "Epoch 186/200\n",
            "29/29 [==============================] - 0s 1ms/step - loss: 0.1325 - accuracy: 0.9759\n",
            "Epoch 187/200\n",
            "29/29 [==============================] - 0s 1ms/step - loss: 0.1060 - accuracy: 0.9739\n",
            "Epoch 188/200\n",
            "29/29 [==============================] - 0s 1ms/step - loss: 0.1212 - accuracy: 0.9535\n",
            "Epoch 189/200\n",
            "29/29 [==============================] - 0s 1ms/step - loss: 0.1554 - accuracy: 0.9473\n",
            "Epoch 190/200\n",
            "29/29 [==============================] - 0s 1ms/step - loss: 0.1582 - accuracy: 0.9576\n",
            "Epoch 191/200\n",
            "29/29 [==============================] - 0s 1ms/step - loss: 0.0671 - accuracy: 0.9654\n",
            "Epoch 192/200\n",
            "29/29 [==============================] - 0s 1ms/step - loss: 0.0959 - accuracy: 0.9821\n",
            "Epoch 193/200\n",
            "29/29 [==============================] - 0s 1ms/step - loss: 0.1007 - accuracy: 0.9727\n",
            "Epoch 194/200\n",
            "29/29 [==============================] - 0s 1ms/step - loss: 0.1404 - accuracy: 0.9487\n",
            "Epoch 195/200\n",
            "29/29 [==============================] - 0s 1ms/step - loss: 0.1239 - accuracy: 0.9603\n",
            "Epoch 196/200\n",
            "29/29 [==============================] - 0s 1ms/step - loss: 0.1177 - accuracy: 0.9495\n",
            "Epoch 197/200\n",
            "29/29 [==============================] - 0s 1ms/step - loss: 0.0701 - accuracy: 0.9793\n",
            "Epoch 198/200\n",
            "29/29 [==============================] - 0s 1ms/step - loss: 0.1144 - accuracy: 0.9745\n",
            "Epoch 199/200\n",
            "29/29 [==============================] - 0s 1ms/step - loss: 0.0762 - accuracy: 0.9669\n",
            "Epoch 200/200\n",
            "29/29 [==============================] - 0s 1ms/step - loss: 0.1212 - accuracy: 0.9510\n",
            "model created\n"
          ],
          "name": "stdout"
        }
      ]
    },
    {
      "cell_type": "code",
      "metadata": {
        "colab": {
          "base_uri": "https://localhost:8080/"
        },
        "id": "B0D9lmduFA5X",
        "outputId": "5559b3f5-76aa-4b5b-bbea-2e7e4bd5f5da"
      },
      "source": [
        "!pip install flask\r\n",
        "!pip install flask-ngrok"
      ],
      "execution_count": 12,
      "outputs": [
        {
          "output_type": "stream",
          "text": [
            "Requirement already satisfied: flask in /usr/local/lib/python3.7/dist-packages (1.1.2)\n",
            "Requirement already satisfied: click>=5.1 in /usr/local/lib/python3.7/dist-packages (from flask) (7.1.2)\n",
            "Requirement already satisfied: Jinja2>=2.10.1 in /usr/local/lib/python3.7/dist-packages (from flask) (2.11.3)\n",
            "Requirement already satisfied: Werkzeug>=0.15 in /usr/local/lib/python3.7/dist-packages (from flask) (1.0.1)\n",
            "Requirement already satisfied: itsdangerous>=0.24 in /usr/local/lib/python3.7/dist-packages (from flask) (1.1.0)\n",
            "Requirement already satisfied: MarkupSafe>=0.23 in /usr/local/lib/python3.7/dist-packages (from Jinja2>=2.10.1->flask) (1.1.1)\n",
            "Collecting flask-ngrok\n",
            "  Downloading https://files.pythonhosted.org/packages/af/6c/f54cb686ad1129e27d125d182f90f52b32f284e6c8df58c1bae54fa1adbc/flask_ngrok-0.0.25-py3-none-any.whl\n",
            "Requirement already satisfied: requests in /usr/local/lib/python3.7/dist-packages (from flask-ngrok) (2.23.0)\n",
            "Requirement already satisfied: Flask>=0.8 in /usr/local/lib/python3.7/dist-packages (from flask-ngrok) (1.1.2)\n",
            "Requirement already satisfied: chardet<4,>=3.0.2 in /usr/local/lib/python3.7/dist-packages (from requests->flask-ngrok) (3.0.4)\n",
            "Requirement already satisfied: idna<3,>=2.5 in /usr/local/lib/python3.7/dist-packages (from requests->flask-ngrok) (2.10)\n",
            "Requirement already satisfied: certifi>=2017.4.17 in /usr/local/lib/python3.7/dist-packages (from requests->flask-ngrok) (2020.12.5)\n",
            "Requirement already satisfied: urllib3!=1.25.0,!=1.25.1,<1.26,>=1.21.1 in /usr/local/lib/python3.7/dist-packages (from requests->flask-ngrok) (1.24.3)\n",
            "Requirement already satisfied: Werkzeug>=0.15 in /usr/local/lib/python3.7/dist-packages (from Flask>=0.8->flask-ngrok) (1.0.1)\n",
            "Requirement already satisfied: click>=5.1 in /usr/local/lib/python3.7/dist-packages (from Flask>=0.8->flask-ngrok) (7.1.2)\n",
            "Requirement already satisfied: itsdangerous>=0.24 in /usr/local/lib/python3.7/dist-packages (from Flask>=0.8->flask-ngrok) (1.1.0)\n",
            "Requirement already satisfied: Jinja2>=2.10.1 in /usr/local/lib/python3.7/dist-packages (from Flask>=0.8->flask-ngrok) (2.11.3)\n",
            "Requirement already satisfied: MarkupSafe>=0.23 in /usr/local/lib/python3.7/dist-packages (from Jinja2>=2.10.1->Flask>=0.8->flask-ngrok) (1.1.1)\n",
            "Installing collected packages: flask-ngrok\n",
            "Successfully installed flask-ngrok-0.0.25\n"
          ],
          "name": "stdout"
        }
      ]
    },
    {
      "cell_type": "code",
      "metadata": {
        "id": "XS0LhteeEo23"
      },
      "source": [
        "# libraries\r\n",
        "import random\r\n",
        "import numpy as np\r\n",
        "import pickle\r\n",
        "import json\r\n",
        "from flask import Flask, render_template, request\r\n",
        "from flask_ngrok import run_with_ngrok\r\n",
        "import nltk\r\n",
        "from keras.models import load_model\r\n",
        "from nltk.stem import WordNetLemmatizer\r\n",
        "lemmatizer = WordNetLemmatizer()\r\n",
        "\r\n",
        "\r\n",
        "# chat initialization\r\n",
        "model = load_model(\"chatbot_model.h5\")\r\n",
        "intents = json.loads(open(\"intents.json\").read())\r\n",
        "words = pickle.load(open(\"words.pkl\", \"rb\"))\r\n",
        "classes = pickle.load(open(\"classes.pkl\", \"rb\"))\r\n",
        "\r\n",
        "app = Flask(__name__, template_folder='/content')\r\n",
        "run_with_ngrok(app) \r\n",
        "\r\n",
        "@app.route(\"/\")\r\n",
        "def home():\r\n",
        "    return render_template(\"index.html\")\r\n"
      ],
      "execution_count": 13,
      "outputs": []
    },
    {
      "cell_type": "code",
      "metadata": {
        "id": "wZ_eoQymErHP"
      },
      "source": [
        "@app.route(\"/get\", methods=[\"POST\"])\r\n",
        "def chatbot_response():\r\n",
        "    msg = request.form[\"msg\"]\r\n",
        "    if msg.startswith('my name is'):\r\n",
        "        name = msg[11:]\r\n",
        "        ints = predict_class(msg, model)\r\n",
        "        res1 = getResponse(ints, intents)\r\n",
        "        res =res1.replace(\"{n}\",name)\r\n",
        "    elif msg.startswith('hi my name is'):\r\n",
        "        name = msg[14:]\r\n",
        "        ints = predict_class(msg, model)\r\n",
        "        res1 = getResponse(ints, intents)\r\n",
        "        res =res1.replace(\"{n}\",name)\r\n",
        "    else:\r\n",
        "        ints = predict_class(msg, model)\r\n",
        "        res = getResponse(ints, intents)\r\n",
        "    return res\r\n"
      ],
      "execution_count": 14,
      "outputs": []
    },
    {
      "cell_type": "code",
      "metadata": {
        "id": "6NOubth4FUqe"
      },
      "source": [
        "def clean_up_sentence(sentence):\r\n",
        "    sentence_words = nltk.word_tokenize(sentence)\r\n",
        "    sentence_words = [lemmatizer.lemmatize(word.lower()) for word in sentence_words]\r\n",
        "    return sentence_words\r\n",
        "\r\n",
        "\r\n",
        "# return bag of words array: 0 or 1 for each word in the bag that exists in the sentence\r\n",
        "def bow(sentence, words, show_details=True):\r\n",
        "    # tokenize the pattern\r\n",
        "    sentence_words = clean_up_sentence(sentence)\r\n",
        "    # bag of words - matrix of N words, vocabulary matrix\r\n",
        "    bag = [0] * len(words)\r\n",
        "    for s in sentence_words:\r\n",
        "        for i, w in enumerate(words):\r\n",
        "            if w == s:\r\n",
        "                # assign 1 if current word is in the vocabulary position\r\n",
        "                bag[i] = 1\r\n",
        "                if show_details:\r\n",
        "                    print(\"found in bag: %s\" % w)\r\n",
        "    return np.array(bag)\r\n"
      ],
      "execution_count": 15,
      "outputs": []
    },
    {
      "cell_type": "code",
      "metadata": {
        "colab": {
          "base_uri": "https://localhost:8080/"
        },
        "id": "F_Ze2HW_FXDG",
        "outputId": "2660b333-8cb6-4cfe-d1ee-9b6a4f9cede7"
      },
      "source": [
        "def predict_class(sentence, model):\r\n",
        "    # filter out predictions below a threshold\r\n",
        "    p = bow(sentence, words, show_details=False)\r\n",
        "    res = model.predict(np.array([p]))[0]\r\n",
        "    ERROR_THRESHOLD = 0.25\r\n",
        "    results = [[i, r] for i, r in enumerate(res) if r > ERROR_THRESHOLD]\r\n",
        "    # sort by strength of probability\r\n",
        "    results.sort(key=lambda x: x[1], reverse=True)\r\n",
        "    return_list = []\r\n",
        "    for r in results:\r\n",
        "        return_list.append({\"intent\": classes[r[0]], \"probability\": str(r[1])})\r\n",
        "    return return_list\r\n",
        "\r\n",
        "\r\n",
        "def getResponse(ints, intents_json):\r\n",
        "    tag = ints[0][\"intent\"]\r\n",
        "    list_of_intents = intents_json[\"intents\"]\r\n",
        "    for i in list_of_intents:\r\n",
        "        if i[\"tag\"] == tag:\r\n",
        "            result = random.choice(i[\"responses\"])\r\n",
        "            break\r\n",
        "    return result\r\n",
        "\r\n",
        "\r\n",
        "\r\n",
        "if __name__ == \"__main__\":\r\n",
        "    app.run()"
      ],
      "execution_count": 16,
      "outputs": [
        {
          "output_type": "stream",
          "text": [
            " * Serving Flask app \"__main__\" (lazy loading)\n",
            " * Environment: production\n",
            "\u001b[31m   WARNING: This is a development server. Do not use it in a production deployment.\u001b[0m\n",
            "\u001b[2m   Use a production WSGI server instead.\u001b[0m\n",
            " * Debug mode: off\n"
          ],
          "name": "stdout"
        },
        {
          "output_type": "stream",
          "text": [
            " * Running on http://127.0.0.1:5000/ (Press CTRL+C to quit)\n"
          ],
          "name": "stderr"
        },
        {
          "output_type": "stream",
          "text": [
            " * Running on http://78094f3633a7.ngrok.io\n",
            " * Traffic stats available on http://127.0.0.1:4040\n"
          ],
          "name": "stdout"
        }
      ]
    }
  ]
}